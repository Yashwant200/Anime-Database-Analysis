{
 "cells": [
  {
   "cell_type": "markdown",
   "id": "baa5461d-06a2-4f0a-a9bf-d4a6fd029b66",
   "metadata": {},
   "source": [
    "## Importing required libaries"
   ]
  },
  {
   "cell_type": "code",
   "execution_count": 1,
   "id": "ec4c5463-3020-401a-96a7-a037ad2f0cb4",
   "metadata": {},
   "outputs": [],
   "source": [
    "import numpy as pd\n",
    "import pandas as pd\n",
    "import matplotlib.pyplot as plt\n",
    "import seaborn as sns"
   ]
  },
  {
   "cell_type": "markdown",
   "id": "59e8fa2b-7dd6-427c-b84b-e638c8a9b95c",
   "metadata": {},
   "source": [
    "## Importing csv file"
   ]
  },
  {
   "cell_type": "code",
   "execution_count": 2,
   "id": "28e73d3d-a410-4085-a93f-1137f6517a06",
   "metadata": {},
   "outputs": [],
   "source": [
    "df = pd.read_csv('Anime.csv')"
   ]
  },
  {
   "cell_type": "code",
   "execution_count": 3,
   "id": "2ea3867a-77d9-42b5-adce-b2dce811459d",
   "metadata": {
    "scrolled": true
   },
   "outputs": [
    {
     "data": {
      "text/html": [
       "<div>\n",
       "<style scoped>\n",
       "    .dataframe tbody tr th:only-of-type {\n",
       "        vertical-align: middle;\n",
       "    }\n",
       "\n",
       "    .dataframe tbody tr th {\n",
       "        vertical-align: top;\n",
       "    }\n",
       "\n",
       "    .dataframe thead th {\n",
       "        text-align: right;\n",
       "    }\n",
       "</style>\n",
       "<table border=\"1\" class=\"dataframe\">\n",
       "  <thead>\n",
       "    <tr style=\"text-align: right;\">\n",
       "      <th></th>\n",
       "      <th>Rank</th>\n",
       "      <th>Name</th>\n",
       "      <th>Japanese_name</th>\n",
       "      <th>Type</th>\n",
       "      <th>Episodes</th>\n",
       "      <th>Studio</th>\n",
       "      <th>Release_season</th>\n",
       "      <th>Tags</th>\n",
       "      <th>Rating</th>\n",
       "      <th>Release_year</th>\n",
       "      <th>End_year</th>\n",
       "      <th>Description</th>\n",
       "      <th>Content_Warning</th>\n",
       "      <th>Related_Mange</th>\n",
       "      <th>Related_anime</th>\n",
       "      <th>Voice_actors</th>\n",
       "      <th>staff</th>\n",
       "    </tr>\n",
       "  </thead>\n",
       "  <tbody>\n",
       "    <tr>\n",
       "      <th>0</th>\n",
       "      <td>1</td>\n",
       "      <td>Demon Slayer: Kimetsu no Yaiba - Entertainment...</td>\n",
       "      <td>Kimetsu no Yaiba: Yuukaku-hen</td>\n",
       "      <td>TV</td>\n",
       "      <td>NaN</td>\n",
       "      <td>ufotable</td>\n",
       "      <td>Fall</td>\n",
       "      <td>Action, Adventure, Fantasy, Shounen, Demons, H...</td>\n",
       "      <td>4.60</td>\n",
       "      <td>2021.0</td>\n",
       "      <td>NaN</td>\n",
       "      <td>'Tanjiro and his friends accompany the Hashira...</td>\n",
       "      <td>Explicit Violence</td>\n",
       "      <td>Demon Slayer: Kimetsu no Yaiba</td>\n",
       "      <td>Demon Slayer: Kimetsu no Yaiba, Demon Slayer: ...</td>\n",
       "      <td>Inosuke Hashibira : Yoshitsugu Matsuoka, Nezuk...</td>\n",
       "      <td>Koyoharu Gotouge : Original Creator, Haruo Sot...</td>\n",
       "    </tr>\n",
       "    <tr>\n",
       "      <th>1</th>\n",
       "      <td>2</td>\n",
       "      <td>Fruits Basket the Final Season</td>\n",
       "      <td>Fruits Basket the Final</td>\n",
       "      <td>TV</td>\n",
       "      <td>13.0</td>\n",
       "      <td>TMS Entertainment</td>\n",
       "      <td>Spring</td>\n",
       "      <td>Drama, Fantasy, Romance, Shoujo, Animal Transf...</td>\n",
       "      <td>4.60</td>\n",
       "      <td>2021.0</td>\n",
       "      <td>NaN</td>\n",
       "      <td>'The final arc of Fruits Basket.'</td>\n",
       "      <td>Emotional Abuse,, Mature Themes,, Physical Abu...</td>\n",
       "      <td>Fruits Basket, Fruits Basket Another</td>\n",
       "      <td>Fruits Basket 1st Season, Fruits Basket 2nd Se...</td>\n",
       "      <td>Akito Sohma : Maaya Sakamoto, Kyo Sohma : Yuum...</td>\n",
       "      <td>Natsuki Takaya : Original Creator, Yoshihide I...</td>\n",
       "    </tr>\n",
       "    <tr>\n",
       "      <th>2</th>\n",
       "      <td>3</td>\n",
       "      <td>Mo Dao Zu Shi 3</td>\n",
       "      <td>The Founder of Diabolism 3</td>\n",
       "      <td>Web</td>\n",
       "      <td>12.0</td>\n",
       "      <td>B.C MAY PICTURES</td>\n",
       "      <td>NaN</td>\n",
       "      <td>Fantasy, Ancient China, Chinese Animation, Cul...</td>\n",
       "      <td>4.58</td>\n",
       "      <td>2021.0</td>\n",
       "      <td>NaN</td>\n",
       "      <td>'The third season of Mo Dao Zu Shi.'</td>\n",
       "      <td>NaN</td>\n",
       "      <td>Grandmaster of Demonic Cultivation: Mo Dao Zu ...</td>\n",
       "      <td>Mo Dao Zu Shi 2, Mo Dao Zu Shi Q</td>\n",
       "      <td>Lan Wangji, Wei Wuxian, Jiang Cheng, Jin Guang...</td>\n",
       "      <td>Mo Xiang Tong Xiu : Original Creator, Xiong Ke...</td>\n",
       "    </tr>\n",
       "    <tr>\n",
       "      <th>3</th>\n",
       "      <td>4</td>\n",
       "      <td>Fullmetal Alchemist: Brotherhood</td>\n",
       "      <td>Hagane no Renkinjutsushi: Full Metal Alchemist</td>\n",
       "      <td>TV</td>\n",
       "      <td>64.0</td>\n",
       "      <td>Bones</td>\n",
       "      <td>Spring</td>\n",
       "      <td>Action, Adventure, Drama, Fantasy, Mystery, Sh...</td>\n",
       "      <td>4.58</td>\n",
       "      <td>2009.0</td>\n",
       "      <td>2010.0</td>\n",
       "      <td>\"The foundation of alchemy is based on the law...</td>\n",
       "      <td>Animal Abuse,, Mature Themes,, Violence,, Dome...</td>\n",
       "      <td>Fullmetal Alchemist, Fullmetal Alchemist (Ligh...</td>\n",
       "      <td>Fullmetal Alchemist: Brotherhood Specials, Ful...</td>\n",
       "      <td>Alphonse Elric : Rie Kugimiya, Edward Elric : ...</td>\n",
       "      <td>Hiromu Arakawa : Original Creator, Yasuhiro Ir...</td>\n",
       "    </tr>\n",
       "    <tr>\n",
       "      <th>4</th>\n",
       "      <td>5</td>\n",
       "      <td>Attack on Titan 3rd Season: Part II</td>\n",
       "      <td>Shingeki no Kyojin Season 3: Part II</td>\n",
       "      <td>TV</td>\n",
       "      <td>10.0</td>\n",
       "      <td>WIT Studio</td>\n",
       "      <td>Spring</td>\n",
       "      <td>Action, Fantasy, Horror, Shounen, Dark Fantasy...</td>\n",
       "      <td>4.57</td>\n",
       "      <td>2019.0</td>\n",
       "      <td>NaN</td>\n",
       "      <td>'The battle to retake Wall Maria begins now! W...</td>\n",
       "      <td>Cannibalism,, Explicit Violence</td>\n",
       "      <td>Attack on Titan, Attack on Titan: End of the W...</td>\n",
       "      <td>Attack on Titan, Attack on Titan 2nd Season, A...</td>\n",
       "      <td>Armin Arlelt : Marina Inoue, Eren Jaeger : Yuu...</td>\n",
       "      <td>Hajime Isayama : Original Creator, Tetsurou Ar...</td>\n",
       "    </tr>\n",
       "    <tr>\n",
       "      <th>5</th>\n",
       "      <td>6</td>\n",
       "      <td>Jujutsu Kaisen</td>\n",
       "      <td>NaN</td>\n",
       "      <td>TV</td>\n",
       "      <td>24.0</td>\n",
       "      <td>MAPPA</td>\n",
       "      <td>Fall</td>\n",
       "      <td>Action, Horror, Shounen, Curse, Exorcists, Mon...</td>\n",
       "      <td>4.56</td>\n",
       "      <td>2020.0</td>\n",
       "      <td>2021.0</td>\n",
       "      <td>'Although Yuji Itadori looks like your average...</td>\n",
       "      <td>Explicit Violence</td>\n",
       "      <td>Jujutsu Kaisen 0, Jujutsu Kaisen</td>\n",
       "      <td>Jujutsu Kaisen (2018), Juju Sanpo, Eve: Kaikai...</td>\n",
       "      <td>Megumi Fushiguro : Yuuma Uchida, Nobara Kugisa...</td>\n",
       "      <td>Gege Akutami : Original Creator, Seong-Hu Park...</td>\n",
       "    </tr>\n",
       "    <tr>\n",
       "      <th>6</th>\n",
       "      <td>7</td>\n",
       "      <td>Attack on Titan The Final Season: Part II</td>\n",
       "      <td>Shingeki no Kyojin The Final Season: Part II</td>\n",
       "      <td>TV</td>\n",
       "      <td>NaN</td>\n",
       "      <td>MAPPA</td>\n",
       "      <td>Winter</td>\n",
       "      <td>Action, Drama, Fantasy, Horror, Shounen, Dark ...</td>\n",
       "      <td>4.56</td>\n",
       "      <td>2022.0</td>\n",
       "      <td>NaN</td>\n",
       "      <td>'Continuation of\\xa0Attack on Titan The Final ...</td>\n",
       "      <td>NaN</td>\n",
       "      <td>Attack on Titan</td>\n",
       "      <td>Attack on Titan, Attack on Titan 2nd Season, A...</td>\n",
       "      <td>Armin Arlelt : Marina Inoue, Eren Jaeger : Yuu...</td>\n",
       "      <td>Hajime Isayama : Original Creator, Jun Shishid...</td>\n",
       "    </tr>\n",
       "    <tr>\n",
       "      <th>7</th>\n",
       "      <td>8</td>\n",
       "      <td>Attack on Titan The Final Season</td>\n",
       "      <td>Shingeki no Kyojin The Final Season</td>\n",
       "      <td>TV</td>\n",
       "      <td>16.0</td>\n",
       "      <td>MAPPA</td>\n",
       "      <td>Winter</td>\n",
       "      <td>Action, Drama, Fantasy, Horror, Shounen, Dark ...</td>\n",
       "      <td>4.55</td>\n",
       "      <td>2020.0</td>\n",
       "      <td>2021.0</td>\n",
       "      <td>\"It's been four years since the Scout Regiment...</td>\n",
       "      <td>Explicit Violence,, Mature Themes,, Physical A...</td>\n",
       "      <td>Attack on Titan</td>\n",
       "      <td>Attack on Titan, Attack on Titan 2nd Season, A...</td>\n",
       "      <td>Eren Jaeger : Yuuki Kaji, Armin Arlelt : Marin...</td>\n",
       "      <td>Hajime Isayama : Original Creator, Jun Shishid...</td>\n",
       "    </tr>\n",
       "    <tr>\n",
       "      <th>8</th>\n",
       "      <td>9</td>\n",
       "      <td>Demon Slayer: Kimetsu no Yaiba Movie - Mugen T...</td>\n",
       "      <td>Kimetsu no Yaiba Movie: Mugen Ressha-hen</td>\n",
       "      <td>Movie</td>\n",
       "      <td>NaN</td>\n",
       "      <td>ufotable</td>\n",
       "      <td>NaN</td>\n",
       "      <td>Action, Drama, Fantasy, Shounen, Demons, Histo...</td>\n",
       "      <td>4.54</td>\n",
       "      <td>2020.0</td>\n",
       "      <td>NaN</td>\n",
       "      <td>'Tanjirou\\xa0and the group have completed thei...</td>\n",
       "      <td>Mature Themes,, Suicide,, Violence</td>\n",
       "      <td>Gotouge Koyoharu Tanpenshuu, Demon Slayer: Kim...</td>\n",
       "      <td>Demon Slayer: Kimetsu no Yaiba, Demon Slayer: ...</td>\n",
       "      <td>Inosuke Hashibira : Yoshitsugu Matsuoka, Kyouj...</td>\n",
       "      <td>Koyoharu Gotouge : Original Creator, Haruo Sot...</td>\n",
       "    </tr>\n",
       "    <tr>\n",
       "      <th>9</th>\n",
       "      <td>10</td>\n",
       "      <td>Haikyuu!! Karasuno High School vs Shiratorizaw...</td>\n",
       "      <td>Haikyuu!! Karasuno Koukou vs Shiratorizawa Ga...</td>\n",
       "      <td>TV</td>\n",
       "      <td>10.0</td>\n",
       "      <td>Production I.G</td>\n",
       "      <td>Fall</td>\n",
       "      <td>Shounen, Sports, Animeism, School Club, School...</td>\n",
       "      <td>4.53</td>\n",
       "      <td>2016.0</td>\n",
       "      <td>NaN</td>\n",
       "      <td>'Picking up where the second season ended, the...</td>\n",
       "      <td>NaN</td>\n",
       "      <td>Haikyuu!! (Pilot), Haikyuu!!, Haikyuu-bu!!</td>\n",
       "      <td>Haikyuu!!, Haikyuu!! Lev Kenzan!, Haikyuu!! Se...</td>\n",
       "      <td>Shoyo Hinata : Ayumu Murase, Tobio Kageyama : ...</td>\n",
       "      <td>Haruichi Furudate : Original Creator, Susumu M...</td>\n",
       "    </tr>\n",
       "    <tr>\n",
       "      <th>10</th>\n",
       "      <td>11</td>\n",
       "      <td>your name.</td>\n",
       "      <td>Kimi no Na wa.</td>\n",
       "      <td>Movie</td>\n",
       "      <td>NaN</td>\n",
       "      <td>CoMix Wave Films</td>\n",
       "      <td>NaN</td>\n",
       "      <td>Drama, Romance, Body Swapping, Gender Bender, ...</td>\n",
       "      <td>4.51</td>\n",
       "      <td>2016.0</td>\n",
       "      <td>NaN</td>\n",
       "      <td>'Mitsuha and Taki are two total strangers livi...</td>\n",
       "      <td>NaN</td>\n",
       "      <td>your name., your name. (Light Novel), your nam...</td>\n",
       "      <td>Suntory Minami Alps no Tennen Mizu, RADWIMPS: ...</td>\n",
       "      <td>Mitsuha Miyamizu : Mone Kamishiraishi, Taki Ta...</td>\n",
       "      <td>Makoto Shinkai : Director &amp; Editor &amp; Original ...</td>\n",
       "    </tr>\n",
       "  </tbody>\n",
       "</table>\n",
       "</div>"
      ],
      "text/plain": [
       "    Rank                                               Name  \\\n",
       "0      1  Demon Slayer: Kimetsu no Yaiba - Entertainment...   \n",
       "1      2                     Fruits Basket the Final Season   \n",
       "2      3                                    Mo Dao Zu Shi 3   \n",
       "3      4                   Fullmetal Alchemist: Brotherhood   \n",
       "4      5                Attack on Titan 3rd Season: Part II   \n",
       "5      6                                     Jujutsu Kaisen   \n",
       "6      7          Attack on Titan The Final Season: Part II   \n",
       "7      8                   Attack on Titan The Final Season   \n",
       "8      9  Demon Slayer: Kimetsu no Yaiba Movie - Mugen T...   \n",
       "9     10  Haikyuu!! Karasuno High School vs Shiratorizaw...   \n",
       "10    11                                         your name.   \n",
       "\n",
       "                                        Japanese_name   Type  Episodes  \\\n",
       "0                       Kimetsu no Yaiba: Yuukaku-hen  TV          NaN   \n",
       "1                             Fruits Basket the Final  TV         13.0   \n",
       "2                          The Founder of Diabolism 3  Web        12.0   \n",
       "3      Hagane no Renkinjutsushi: Full Metal Alchemist  TV         64.0   \n",
       "4                Shingeki no Kyojin Season 3: Part II  TV         10.0   \n",
       "5                                                 NaN  TV         24.0   \n",
       "6        Shingeki no Kyojin The Final Season: Part II  TV          NaN   \n",
       "7                 Shingeki no Kyojin The Final Season  TV         16.0   \n",
       "8            Kimetsu no Yaiba Movie: Mugen Ressha-hen  Movie       NaN   \n",
       "9    Haikyuu!! Karasuno Koukou vs Shiratorizawa Ga...  TV         10.0   \n",
       "10                                     Kimi no Na wa.  Movie       NaN   \n",
       "\n",
       "               Studio Release_season  \\\n",
       "0            ufotable          Fall    \n",
       "1   TMS Entertainment         Spring   \n",
       "2    B.C MAY PICTURES            NaN   \n",
       "3               Bones         Spring   \n",
       "4          WIT Studio         Spring   \n",
       "5               MAPPA          Fall    \n",
       "6               MAPPA         Winter   \n",
       "7               MAPPA         Winter   \n",
       "8            ufotable            NaN   \n",
       "9      Production I.G          Fall    \n",
       "10   CoMix Wave Films            NaN   \n",
       "\n",
       "                                                 Tags  Rating  Release_year  \\\n",
       "0   Action, Adventure, Fantasy, Shounen, Demons, H...    4.60        2021.0   \n",
       "1   Drama, Fantasy, Romance, Shoujo, Animal Transf...    4.60        2021.0   \n",
       "2   Fantasy, Ancient China, Chinese Animation, Cul...    4.58        2021.0   \n",
       "3   Action, Adventure, Drama, Fantasy, Mystery, Sh...    4.58        2009.0   \n",
       "4   Action, Fantasy, Horror, Shounen, Dark Fantasy...    4.57        2019.0   \n",
       "5   Action, Horror, Shounen, Curse, Exorcists, Mon...    4.56        2020.0   \n",
       "6   Action, Drama, Fantasy, Horror, Shounen, Dark ...    4.56        2022.0   \n",
       "7   Action, Drama, Fantasy, Horror, Shounen, Dark ...    4.55        2020.0   \n",
       "8   Action, Drama, Fantasy, Shounen, Demons, Histo...    4.54        2020.0   \n",
       "9   Shounen, Sports, Animeism, School Club, School...    4.53        2016.0   \n",
       "10  Drama, Romance, Body Swapping, Gender Bender, ...    4.51        2016.0   \n",
       "\n",
       "    End_year                                        Description  \\\n",
       "0        NaN  'Tanjiro and his friends accompany the Hashira...   \n",
       "1        NaN                  'The final arc of Fruits Basket.'   \n",
       "2        NaN               'The third season of Mo Dao Zu Shi.'   \n",
       "3     2010.0  \"The foundation of alchemy is based on the law...   \n",
       "4        NaN  'The battle to retake Wall Maria begins now! W...   \n",
       "5     2021.0  'Although Yuji Itadori looks like your average...   \n",
       "6        NaN  'Continuation of\\xa0Attack on Titan The Final ...   \n",
       "7     2021.0  \"It's been four years since the Scout Regiment...   \n",
       "8        NaN  'Tanjirou\\xa0and the group have completed thei...   \n",
       "9        NaN  'Picking up where the second season ended, the...   \n",
       "10       NaN  'Mitsuha and Taki are two total strangers livi...   \n",
       "\n",
       "                                      Content_Warning  \\\n",
       "0                                   Explicit Violence   \n",
       "1   Emotional Abuse,, Mature Themes,, Physical Abu...   \n",
       "2                                                 NaN   \n",
       "3   Animal Abuse,, Mature Themes,, Violence,, Dome...   \n",
       "4                     Cannibalism,, Explicit Violence   \n",
       "5                                   Explicit Violence   \n",
       "6                                                 NaN   \n",
       "7   Explicit Violence,, Mature Themes,, Physical A...   \n",
       "8                  Mature Themes,, Suicide,, Violence   \n",
       "9                                                 NaN   \n",
       "10                                                NaN   \n",
       "\n",
       "                                        Related_Mange  \\\n",
       "0                      Demon Slayer: Kimetsu no Yaiba   \n",
       "1                Fruits Basket, Fruits Basket Another   \n",
       "2   Grandmaster of Demonic Cultivation: Mo Dao Zu ...   \n",
       "3   Fullmetal Alchemist, Fullmetal Alchemist (Ligh...   \n",
       "4   Attack on Titan, Attack on Titan: End of the W...   \n",
       "5                    Jujutsu Kaisen 0, Jujutsu Kaisen   \n",
       "6                                     Attack on Titan   \n",
       "7                                     Attack on Titan   \n",
       "8   Gotouge Koyoharu Tanpenshuu, Demon Slayer: Kim...   \n",
       "9          Haikyuu!! (Pilot), Haikyuu!!, Haikyuu-bu!!   \n",
       "10  your name., your name. (Light Novel), your nam...   \n",
       "\n",
       "                                        Related_anime  \\\n",
       "0   Demon Slayer: Kimetsu no Yaiba, Demon Slayer: ...   \n",
       "1   Fruits Basket 1st Season, Fruits Basket 2nd Se...   \n",
       "2                    Mo Dao Zu Shi 2, Mo Dao Zu Shi Q   \n",
       "3   Fullmetal Alchemist: Brotherhood Specials, Ful...   \n",
       "4   Attack on Titan, Attack on Titan 2nd Season, A...   \n",
       "5   Jujutsu Kaisen (2018), Juju Sanpo, Eve: Kaikai...   \n",
       "6   Attack on Titan, Attack on Titan 2nd Season, A...   \n",
       "7   Attack on Titan, Attack on Titan 2nd Season, A...   \n",
       "8   Demon Slayer: Kimetsu no Yaiba, Demon Slayer: ...   \n",
       "9   Haikyuu!!, Haikyuu!! Lev Kenzan!, Haikyuu!! Se...   \n",
       "10  Suntory Minami Alps no Tennen Mizu, RADWIMPS: ...   \n",
       "\n",
       "                                         Voice_actors  \\\n",
       "0   Inosuke Hashibira : Yoshitsugu Matsuoka, Nezuk...   \n",
       "1   Akito Sohma : Maaya Sakamoto, Kyo Sohma : Yuum...   \n",
       "2   Lan Wangji, Wei Wuxian, Jiang Cheng, Jin Guang...   \n",
       "3   Alphonse Elric : Rie Kugimiya, Edward Elric : ...   \n",
       "4   Armin Arlelt : Marina Inoue, Eren Jaeger : Yuu...   \n",
       "5   Megumi Fushiguro : Yuuma Uchida, Nobara Kugisa...   \n",
       "6   Armin Arlelt : Marina Inoue, Eren Jaeger : Yuu...   \n",
       "7   Eren Jaeger : Yuuki Kaji, Armin Arlelt : Marin...   \n",
       "8   Inosuke Hashibira : Yoshitsugu Matsuoka, Kyouj...   \n",
       "9   Shoyo Hinata : Ayumu Murase, Tobio Kageyama : ...   \n",
       "10  Mitsuha Miyamizu : Mone Kamishiraishi, Taki Ta...   \n",
       "\n",
       "                                                staff  \n",
       "0   Koyoharu Gotouge : Original Creator, Haruo Sot...  \n",
       "1   Natsuki Takaya : Original Creator, Yoshihide I...  \n",
       "2   Mo Xiang Tong Xiu : Original Creator, Xiong Ke...  \n",
       "3   Hiromu Arakawa : Original Creator, Yasuhiro Ir...  \n",
       "4   Hajime Isayama : Original Creator, Tetsurou Ar...  \n",
       "5   Gege Akutami : Original Creator, Seong-Hu Park...  \n",
       "6   Hajime Isayama : Original Creator, Jun Shishid...  \n",
       "7   Hajime Isayama : Original Creator, Jun Shishid...  \n",
       "8   Koyoharu Gotouge : Original Creator, Haruo Sot...  \n",
       "9   Haruichi Furudate : Original Creator, Susumu M...  \n",
       "10  Makoto Shinkai : Director & Editor & Original ...  "
      ]
     },
     "execution_count": 3,
     "metadata": {},
     "output_type": "execute_result"
    }
   ],
   "source": [
    "df.head(11)"
   ]
  },
  {
   "cell_type": "markdown",
   "id": "c86d6a0a-fe13-4cab-9bc5-987c43e35936",
   "metadata": {},
   "source": [
    "## Check our dataset"
   ]
  },
  {
   "cell_type": "code",
   "execution_count": 4,
   "id": "261fd66d-8bc6-4368-a3d7-3202a4da7521",
   "metadata": {},
   "outputs": [
    {
     "name": "stdout",
     "output_type": "stream",
     "text": [
      "number of rows=  18495\n",
      "number of columns=  17\n"
     ]
    }
   ],
   "source": [
    "print(\"number of rows= \", df.shape[0])\n",
    "print (\"number of columns= \", df.shape[1])"
   ]
  },
  {
   "cell_type": "code",
   "execution_count": 5,
   "id": "d7c76305-fd50-467c-98f2-a931afdbc164",
   "metadata": {},
   "outputs": [
    {
     "name": "stdout",
     "output_type": "stream",
     "text": [
      "<class 'pandas.core.frame.DataFrame'>\n",
      "RangeIndex: 18495 entries, 0 to 18494\n",
      "Data columns (total 17 columns):\n",
      " #   Column           Non-Null Count  Dtype  \n",
      "---  ------           --------------  -----  \n",
      " 0   Rank             18495 non-null  int64  \n",
      " 1   Name             18495 non-null  object \n",
      " 2   Japanese_name    7938 non-null   object \n",
      " 3   Type             18495 non-null  object \n",
      " 4   Episodes         9501 non-null   float64\n",
      " 5   Studio           12018 non-null  object \n",
      " 6   Release_season   4116 non-null   object \n",
      " 7   Tags             18095 non-null  object \n",
      " 8   Rating           15364 non-null  float64\n",
      " 9   Release_year     18112 non-null  float64\n",
      " 10  End_year         2854 non-null   float64\n",
      " 11  Description      18491 non-null  object \n",
      " 12  Content_Warning  1840 non-null   object \n",
      " 13  Related_Mange    7627 non-null   object \n",
      " 14  Related_anime    10063 non-null  object \n",
      " 15  Voice_actors     15309 non-null  object \n",
      " 16  staff            13005 non-null  object \n",
      "dtypes: float64(4), int64(1), object(12)\n",
      "memory usage: 2.4+ MB\n"
     ]
    }
   ],
   "source": [
    "df.info()"
   ]
  },
  {
   "cell_type": "markdown",
   "id": "cbaffed2-a979-4b31-8f4a-08ae9168ea05",
   "metadata": {},
   "source": [
    "## For Null values"
   ]
  },
  {
   "cell_type": "code",
   "execution_count": 6,
   "id": "d3111b05-9806-459c-824f-bdf62f3fd67a",
   "metadata": {},
   "outputs": [
    {
     "name": "stdout",
     "output_type": "stream",
     "text": [
      "Any missing value? =  True\n"
     ]
    }
   ],
   "source": [
    "print(\"Any missing value? = \", df.isnull().values.any())"
   ]
  },
  {
   "cell_type": "code",
   "execution_count": 7,
   "id": "d75e56ac-c2ca-402d-9015-8f87431d63d2",
   "metadata": {},
   "outputs": [
    {
     "data": {
      "text/plain": [
       "Rank                   0\n",
       "Name                   0\n",
       "Japanese_name      10557\n",
       "Type                   0\n",
       "Episodes            8994\n",
       "Studio              6477\n",
       "Release_season     14379\n",
       "Tags                 400\n",
       "Rating              3131\n",
       "Release_year         383\n",
       "End_year           15641\n",
       "Description            4\n",
       "Content_Warning    16655\n",
       "Related_Mange      10868\n",
       "Related_anime       8432\n",
       "Voice_actors        3186\n",
       "staff               5490\n",
       "dtype: int64"
      ]
     },
     "execution_count": 7,
     "metadata": {},
     "output_type": "execute_result"
    }
   ],
   "source": [
    "df.isnull().sum()"
   ]
  },
  {
   "cell_type": "code",
   "execution_count": 8,
   "id": "6382352c-2e82-4822-961c-7a1c9a16feb6",
   "metadata": {},
   "outputs": [
    {
     "data": {
      "text/plain": [
       "<Axes: >"
      ]
     },
     "execution_count": 8,
     "metadata": {},
     "output_type": "execute_result"
    },
    {
     "data": {
      "image/png": "[encoded data removed]",
      "text/plain": [
       "<Figure size 640x480 with 2 Axes>"
      ]
     },
     "metadata": {},
     "output_type": "display_data"
    }
   ],
   "source": [
    "sns.heatmap(df.isnull())"
   ]
  },
  {
   "cell_type": "markdown",
   "id": "cf323113-52b4-4c87-86f1-626fecfcbbf9",
   "metadata": {},
   "source": [
    "above lighter color shows the missing values"
   ]
  },
  {
   "cell_type": "code",
   "execution_count": 9,
   "id": "0ed733cc-a40d-40dc-a18e-98228f4ee8b4",
   "metadata": {},
   "outputs": [],
   "source": [
    "per_missing = df.isnull().sum() * 100 / len(df)     #for geting the null values in percentages."
   ]
  },
  {
   "cell_type": "code",
   "execution_count": 10,
   "id": "2861dc3d-9380-4c59-a783-6d9962b005c1",
   "metadata": {},
   "outputs": [
    {
     "name": "stdout",
     "output_type": "stream",
     "text": [
      "Rank                0.000000\n",
      "Name                0.000000\n",
      "Japanese_name      57.080292\n",
      "Type                0.000000\n",
      "Episodes           48.629359\n",
      "Studio             35.020276\n",
      "Release_season     77.745337\n",
      "Tags                2.162747\n",
      "Rating             16.928900\n",
      "Release_year        2.070830\n",
      "End_year           84.568802\n",
      "Description         0.021627\n",
      "Content_Warning    90.051365\n",
      "Related_Mange      58.761828\n",
      "Related_anime      45.590700\n",
      "Voice_actors       17.226277\n",
      "staff              29.683698\n",
      "dtype: float64\n"
     ]
    }
   ],
   "source": [
    "print(per_missing)"
   ]
  },
  {
   "cell_type": "code",
   "execution_count": 11,
   "id": "273c099d-8837-428f-9d17-368853a36714",
   "metadata": {},
   "outputs": [
    {
     "name": "stdout",
     "output_type": "stream",
     "text": [
      "Current columns: Index(['Rank', 'Name', 'Japanese_name', 'Type', 'Episodes', 'Studio',\n",
      "       'Release_season', 'Tags', 'Rating', 'Release_year', 'End_year',\n",
      "       'Description', 'Content_Warning', 'Related_Mange', 'Related_anime',\n",
      "       'Voice_actors', 'staff'],\n",
      "      dtype='object')\n"
     ]
    }
   ],
   "source": [
    "print(\"Current columns:\", df.columns)"
   ]
  },
  {
   "cell_type": "markdown",
   "id": "e02d8e04-aecd-4b21-97a5-40d25046e903",
   "metadata": {},
   "source": [
    "## Drop unnessary columns."
   ]
  },
  {
   "cell_type": "code",
   "execution_count": 12,
   "id": "b5bced50-0bf8-4dee-8739-3cff4b58bf88",
   "metadata": {},
   "outputs": [],
   "source": [
    "columns_to_drop = [\"Related_anime\", \"Voice_actors\", \"staff\", \"Japanese_name\", \"Related_Mange\", \"Description\", \"End_year\"]"
   ]
  },
  {
   "cell_type": "code",
   "execution_count": 13,
   "id": "811ebefb-82ea-4dbf-8857-bbc407109bb2",
   "metadata": {},
   "outputs": [],
   "source": [
    "df.drop(columns=columns_to_drop, inplace=True)"
   ]
  },
  {
   "cell_type": "code",
   "execution_count": 14,
   "id": "43154972-94c9-4aec-902c-ecf503bf10d2",
   "metadata": {},
   "outputs": [
    {
     "data": {
      "text/html": [
       "<div>\n",
       "<style scoped>\n",
       "    .dataframe tbody tr th:only-of-type {\n",
       "        vertical-align: middle;\n",
       "    }\n",
       "\n",
       "    .dataframe tbody tr th {\n",
       "        vertical-align: top;\n",
       "    }\n",
       "\n",
       "    .dataframe thead th {\n",
       "        text-align: right;\n",
       "    }\n",
       "</style>\n",
       "<table border=\"1\" class=\"dataframe\">\n",
       "  <thead>\n",
       "    <tr style=\"text-align: right;\">\n",
       "      <th></th>\n",
       "      <th>Rank</th>\n",
       "      <th>Name</th>\n",
       "      <th>Type</th>\n",
       "      <th>Episodes</th>\n",
       "      <th>Studio</th>\n",
       "      <th>Release_season</th>\n",
       "      <th>Tags</th>\n",
       "      <th>Rating</th>\n",
       "      <th>Release_year</th>\n",
       "      <th>Content_Warning</th>\n",
       "    </tr>\n",
       "  </thead>\n",
       "  <tbody>\n",
       "    <tr>\n",
       "      <th>0</th>\n",
       "      <td>1</td>\n",
       "      <td>Demon Slayer: Kimetsu no Yaiba - Entertainment...</td>\n",
       "      <td>TV</td>\n",
       "      <td>NaN</td>\n",
       "      <td>ufotable</td>\n",
       "      <td>Fall</td>\n",
       "      <td>Action, Adventure, Fantasy, Shounen, Demons, H...</td>\n",
       "      <td>4.60</td>\n",
       "      <td>2021.0</td>\n",
       "      <td>Explicit Violence</td>\n",
       "    </tr>\n",
       "    <tr>\n",
       "      <th>1</th>\n",
       "      <td>2</td>\n",
       "      <td>Fruits Basket the Final Season</td>\n",
       "      <td>TV</td>\n",
       "      <td>13.0</td>\n",
       "      <td>TMS Entertainment</td>\n",
       "      <td>Spring</td>\n",
       "      <td>Drama, Fantasy, Romance, Shoujo, Animal Transf...</td>\n",
       "      <td>4.60</td>\n",
       "      <td>2021.0</td>\n",
       "      <td>Emotional Abuse,, Mature Themes,, Physical Abu...</td>\n",
       "    </tr>\n",
       "    <tr>\n",
       "      <th>2</th>\n",
       "      <td>3</td>\n",
       "      <td>Mo Dao Zu Shi 3</td>\n",
       "      <td>Web</td>\n",
       "      <td>12.0</td>\n",
       "      <td>B.C MAY PICTURES</td>\n",
       "      <td>NaN</td>\n",
       "      <td>Fantasy, Ancient China, Chinese Animation, Cul...</td>\n",
       "      <td>4.58</td>\n",
       "      <td>2021.0</td>\n",
       "      <td>NaN</td>\n",
       "    </tr>\n",
       "    <tr>\n",
       "      <th>3</th>\n",
       "      <td>4</td>\n",
       "      <td>Fullmetal Alchemist: Brotherhood</td>\n",
       "      <td>TV</td>\n",
       "      <td>64.0</td>\n",
       "      <td>Bones</td>\n",
       "      <td>Spring</td>\n",
       "      <td>Action, Adventure, Drama, Fantasy, Mystery, Sh...</td>\n",
       "      <td>4.58</td>\n",
       "      <td>2009.0</td>\n",
       "      <td>Animal Abuse,, Mature Themes,, Violence,, Dome...</td>\n",
       "    </tr>\n",
       "    <tr>\n",
       "      <th>4</th>\n",
       "      <td>5</td>\n",
       "      <td>Attack on Titan 3rd Season: Part II</td>\n",
       "      <td>TV</td>\n",
       "      <td>10.0</td>\n",
       "      <td>WIT Studio</td>\n",
       "      <td>Spring</td>\n",
       "      <td>Action, Fantasy, Horror, Shounen, Dark Fantasy...</td>\n",
       "      <td>4.57</td>\n",
       "      <td>2019.0</td>\n",
       "      <td>Cannibalism,, Explicit Violence</td>\n",
       "    </tr>\n",
       "    <tr>\n",
       "      <th>...</th>\n",
       "      <td>...</td>\n",
       "      <td>...</td>\n",
       "      <td>...</td>\n",
       "      <td>...</td>\n",
       "      <td>...</td>\n",
       "      <td>...</td>\n",
       "      <td>...</td>\n",
       "      <td>...</td>\n",
       "      <td>...</td>\n",
       "      <td>...</td>\n",
       "    </tr>\n",
       "    <tr>\n",
       "      <th>18490</th>\n",
       "      <td>18491</td>\n",
       "      <td>Qin Shi Mingyue: Canghai Hengliu Xiaomeng Spec...</td>\n",
       "      <td>Web</td>\n",
       "      <td>2.0</td>\n",
       "      <td>Sparkly Key Animation Studio</td>\n",
       "      <td>NaN</td>\n",
       "      <td>Action, Ancient China, Chinese Animation, Hist...</td>\n",
       "      <td>NaN</td>\n",
       "      <td>2020.0</td>\n",
       "      <td>NaN</td>\n",
       "    </tr>\n",
       "    <tr>\n",
       "      <th>18491</th>\n",
       "      <td>18492</td>\n",
       "      <td>Yi Tang Juchang: Sanguo Yanyi</td>\n",
       "      <td>TV</td>\n",
       "      <td>108.0</td>\n",
       "      <td>NaN</td>\n",
       "      <td>NaN</td>\n",
       "      <td>Chinese Animation</td>\n",
       "      <td>NaN</td>\n",
       "      <td>2010.0</td>\n",
       "      <td>NaN</td>\n",
       "    </tr>\n",
       "    <tr>\n",
       "      <th>18492</th>\n",
       "      <td>18493</td>\n",
       "      <td>Fenghuang Ji Xiang Yu Qingming Shanghe Tu</td>\n",
       "      <td>TV</td>\n",
       "      <td>13.0</td>\n",
       "      <td>NaN</td>\n",
       "      <td>NaN</td>\n",
       "      <td>Chinese Animation, Family Friendly, Short Epis...</td>\n",
       "      <td>NaN</td>\n",
       "      <td>2020.0</td>\n",
       "      <td>NaN</td>\n",
       "    </tr>\n",
       "    <tr>\n",
       "      <th>18493</th>\n",
       "      <td>18494</td>\n",
       "      <td>Chengshi Jiyi Wo Men de Jieri</td>\n",
       "      <td>TV</td>\n",
       "      <td>NaN</td>\n",
       "      <td>NaN</td>\n",
       "      <td>NaN</td>\n",
       "      <td>Chinese Animation, Family Friendly, Short Epis...</td>\n",
       "      <td>NaN</td>\n",
       "      <td>2020.0</td>\n",
       "      <td>NaN</td>\n",
       "    </tr>\n",
       "    <tr>\n",
       "      <th>18494</th>\n",
       "      <td>18495</td>\n",
       "      <td>Heisei Inu Monogatari Bow: Genshi Inu Monogata...</td>\n",
       "      <td>Movie</td>\n",
       "      <td>NaN</td>\n",
       "      <td>Nippon Animation</td>\n",
       "      <td>NaN</td>\n",
       "      <td>Comedy, Slice of Life, Dogs</td>\n",
       "      <td>NaN</td>\n",
       "      <td>1994.0</td>\n",
       "      <td>NaN</td>\n",
       "    </tr>\n",
       "  </tbody>\n",
       "</table>\n",
       "<p>18495 rows × 10 columns</p>\n",
       "</div>"
      ],
      "text/plain": [
       "        Rank                                               Name   Type  \\\n",
       "0          1  Demon Slayer: Kimetsu no Yaiba - Entertainment...  TV      \n",
       "1          2                     Fruits Basket the Final Season  TV      \n",
       "2          3                                    Mo Dao Zu Shi 3  Web     \n",
       "3          4                   Fullmetal Alchemist: Brotherhood  TV      \n",
       "4          5                Attack on Titan 3rd Season: Part II  TV      \n",
       "...      ...                                                ...    ...   \n",
       "18490  18491  Qin Shi Mingyue: Canghai Hengliu Xiaomeng Spec...  Web     \n",
       "18491  18492                      Yi Tang Juchang: Sanguo Yanyi  TV      \n",
       "18492  18493          Fenghuang Ji Xiang Yu Qingming Shanghe Tu  TV      \n",
       "18493  18494                      Chengshi Jiyi Wo Men de Jieri  TV      \n",
       "18494  18495  Heisei Inu Monogatari Bow: Genshi Inu Monogata...  Movie   \n",
       "\n",
       "       Episodes                        Studio Release_season  \\\n",
       "0           NaN                      ufotable          Fall    \n",
       "1          13.0             TMS Entertainment         Spring   \n",
       "2          12.0              B.C MAY PICTURES            NaN   \n",
       "3          64.0                         Bones         Spring   \n",
       "4          10.0                    WIT Studio         Spring   \n",
       "...         ...                           ...            ...   \n",
       "18490       2.0  Sparkly Key Animation Studio            NaN   \n",
       "18491     108.0                           NaN            NaN   \n",
       "18492      13.0                           NaN            NaN   \n",
       "18493       NaN                           NaN            NaN   \n",
       "18494       NaN              Nippon Animation            NaN   \n",
       "\n",
       "                                                    Tags  Rating  \\\n",
       "0      Action, Adventure, Fantasy, Shounen, Demons, H...    4.60   \n",
       "1      Drama, Fantasy, Romance, Shoujo, Animal Transf...    4.60   \n",
       "2      Fantasy, Ancient China, Chinese Animation, Cul...    4.58   \n",
       "3      Action, Adventure, Drama, Fantasy, Mystery, Sh...    4.58   \n",
       "4      Action, Fantasy, Horror, Shounen, Dark Fantasy...    4.57   \n",
       "...                                                  ...     ...   \n",
       "18490  Action, Ancient China, Chinese Animation, Hist...     NaN   \n",
       "18491                                  Chinese Animation     NaN   \n",
       "18492  Chinese Animation, Family Friendly, Short Epis...     NaN   \n",
       "18493  Chinese Animation, Family Friendly, Short Epis...     NaN   \n",
       "18494                        Comedy, Slice of Life, Dogs     NaN   \n",
       "\n",
       "       Release_year                                    Content_Warning  \n",
       "0            2021.0                                  Explicit Violence  \n",
       "1            2021.0  Emotional Abuse,, Mature Themes,, Physical Abu...  \n",
       "2            2021.0                                                NaN  \n",
       "3            2009.0  Animal Abuse,, Mature Themes,, Violence,, Dome...  \n",
       "4            2019.0                    Cannibalism,, Explicit Violence  \n",
       "...             ...                                                ...  \n",
       "18490        2020.0                                                NaN  \n",
       "18491        2010.0                                                NaN  \n",
       "18492        2020.0                                                NaN  \n",
       "18493        2020.0                                                NaN  \n",
       "18494        1994.0                                                NaN  \n",
       "\n",
       "[18495 rows x 10 columns]"
      ]
     },
     "execution_count": 14,
     "metadata": {},
     "output_type": "execute_result"
    }
   ],
   "source": [
    "df"
   ]
  },
  {
   "cell_type": "markdown",
   "id": "f3f0c200-3ae1-45a8-9412-ba3c0c22e508",
   "metadata": {},
   "source": [
    "## Filling missing values"
   ]
  },
  {
   "cell_type": "code",
   "execution_count": 15,
   "id": "8efbbdf9-64bd-433b-980f-62bd556e4409",
   "metadata": {},
   "outputs": [],
   "source": [
    "df['Episodes'].fillna(df['Episodes'].mode()[0], inplace = True)\n",
    "df['Rating'].fillna(df['Rating'].mode()[0], inplace = True)\n",
    "df['Studio'].fillna(df['Studio'].mode()[0], inplace = True)\n",
    "df['Release_season'].fillna(df['Release_season'].mode()[0], inplace = True)\n",
    "df['Release_year'].fillna(df['Release_year'].mode()[0], inplace = True)\n",
    "df['Content_Warning'].fillna(df['Content_Warning'].mode()[0], inplace = True)\n",
    "df['Tags'].fillna(df['Tags'].mode()[0], inplace = True)"
   ]
  },
  {
   "cell_type": "code",
   "execution_count": 16,
   "id": "22e3a0f5-55b3-4cde-97ba-a541598b30d2",
   "metadata": {},
   "outputs": [
    {
     "data": {
      "text/html": [
       "<div>\n",
       "<style scoped>\n",
       "    .dataframe tbody tr th:only-of-type {\n",
       "        vertical-align: middle;\n",
       "    }\n",
       "\n",
       "    .dataframe tbody tr th {\n",
       "        vertical-align: top;\n",
       "    }\n",
       "\n",
       "    .dataframe thead th {\n",
       "        text-align: right;\n",
       "    }\n",
       "</style>\n",
       "<table border=\"1\" class=\"dataframe\">\n",
       "  <thead>\n",
       "    <tr style=\"text-align: right;\">\n",
       "      <th></th>\n",
       "      <th>Rank</th>\n",
       "      <th>Name</th>\n",
       "      <th>Type</th>\n",
       "      <th>Episodes</th>\n",
       "      <th>Studio</th>\n",
       "      <th>Release_season</th>\n",
       "      <th>Tags</th>\n",
       "      <th>Rating</th>\n",
       "      <th>Release_year</th>\n",
       "      <th>Content_Warning</th>\n",
       "    </tr>\n",
       "  </thead>\n",
       "  <tbody>\n",
       "    <tr>\n",
       "      <th>0</th>\n",
       "      <td>1</td>\n",
       "      <td>Demon Slayer: Kimetsu no Yaiba - Entertainment...</td>\n",
       "      <td>TV</td>\n",
       "      <td>1.0</td>\n",
       "      <td>ufotable</td>\n",
       "      <td>Fall</td>\n",
       "      <td>Action, Adventure, Fantasy, Shounen, Demons, H...</td>\n",
       "      <td>4.60</td>\n",
       "      <td>2021.0</td>\n",
       "      <td>Explicit Violence</td>\n",
       "    </tr>\n",
       "    <tr>\n",
       "      <th>1</th>\n",
       "      <td>2</td>\n",
       "      <td>Fruits Basket the Final Season</td>\n",
       "      <td>TV</td>\n",
       "      <td>13.0</td>\n",
       "      <td>TMS Entertainment</td>\n",
       "      <td>Spring</td>\n",
       "      <td>Drama, Fantasy, Romance, Shoujo, Animal Transf...</td>\n",
       "      <td>4.60</td>\n",
       "      <td>2021.0</td>\n",
       "      <td>Emotional Abuse,, Mature Themes,, Physical Abu...</td>\n",
       "    </tr>\n",
       "    <tr>\n",
       "      <th>2</th>\n",
       "      <td>3</td>\n",
       "      <td>Mo Dao Zu Shi 3</td>\n",
       "      <td>Web</td>\n",
       "      <td>12.0</td>\n",
       "      <td>B.C MAY PICTURES</td>\n",
       "      <td>Spring</td>\n",
       "      <td>Fantasy, Ancient China, Chinese Animation, Cul...</td>\n",
       "      <td>4.58</td>\n",
       "      <td>2021.0</td>\n",
       "      <td>Violence</td>\n",
       "    </tr>\n",
       "    <tr>\n",
       "      <th>3</th>\n",
       "      <td>4</td>\n",
       "      <td>Fullmetal Alchemist: Brotherhood</td>\n",
       "      <td>TV</td>\n",
       "      <td>64.0</td>\n",
       "      <td>Bones</td>\n",
       "      <td>Spring</td>\n",
       "      <td>Action, Adventure, Drama, Fantasy, Mystery, Sh...</td>\n",
       "      <td>4.58</td>\n",
       "      <td>2009.0</td>\n",
       "      <td>Animal Abuse,, Mature Themes,, Violence,, Dome...</td>\n",
       "    </tr>\n",
       "    <tr>\n",
       "      <th>4</th>\n",
       "      <td>5</td>\n",
       "      <td>Attack on Titan 3rd Season: Part II</td>\n",
       "      <td>TV</td>\n",
       "      <td>10.0</td>\n",
       "      <td>WIT Studio</td>\n",
       "      <td>Spring</td>\n",
       "      <td>Action, Fantasy, Horror, Shounen, Dark Fantasy...</td>\n",
       "      <td>4.57</td>\n",
       "      <td>2019.0</td>\n",
       "      <td>Cannibalism,, Explicit Violence</td>\n",
       "    </tr>\n",
       "    <tr>\n",
       "      <th>...</th>\n",
       "      <td>...</td>\n",
       "      <td>...</td>\n",
       "      <td>...</td>\n",
       "      <td>...</td>\n",
       "      <td>...</td>\n",
       "      <td>...</td>\n",
       "      <td>...</td>\n",
       "      <td>...</td>\n",
       "      <td>...</td>\n",
       "      <td>...</td>\n",
       "    </tr>\n",
       "    <tr>\n",
       "      <th>18490</th>\n",
       "      <td>18491</td>\n",
       "      <td>Qin Shi Mingyue: Canghai Hengliu Xiaomeng Spec...</td>\n",
       "      <td>Web</td>\n",
       "      <td>2.0</td>\n",
       "      <td>Sparkly Key Animation Studio</td>\n",
       "      <td>Spring</td>\n",
       "      <td>Action, Ancient China, Chinese Animation, Hist...</td>\n",
       "      <td>3.35</td>\n",
       "      <td>2020.0</td>\n",
       "      <td>Violence</td>\n",
       "    </tr>\n",
       "    <tr>\n",
       "      <th>18491</th>\n",
       "      <td>18492</td>\n",
       "      <td>Yi Tang Juchang: Sanguo Yanyi</td>\n",
       "      <td>TV</td>\n",
       "      <td>108.0</td>\n",
       "      <td>Toei Animation</td>\n",
       "      <td>Spring</td>\n",
       "      <td>Chinese Animation</td>\n",
       "      <td>3.35</td>\n",
       "      <td>2010.0</td>\n",
       "      <td>Violence</td>\n",
       "    </tr>\n",
       "    <tr>\n",
       "      <th>18492</th>\n",
       "      <td>18493</td>\n",
       "      <td>Fenghuang Ji Xiang Yu Qingming Shanghe Tu</td>\n",
       "      <td>TV</td>\n",
       "      <td>13.0</td>\n",
       "      <td>Toei Animation</td>\n",
       "      <td>Spring</td>\n",
       "      <td>Chinese Animation, Family Friendly, Short Epis...</td>\n",
       "      <td>3.35</td>\n",
       "      <td>2020.0</td>\n",
       "      <td>Violence</td>\n",
       "    </tr>\n",
       "    <tr>\n",
       "      <th>18493</th>\n",
       "      <td>18494</td>\n",
       "      <td>Chengshi Jiyi Wo Men de Jieri</td>\n",
       "      <td>TV</td>\n",
       "      <td>1.0</td>\n",
       "      <td>Toei Animation</td>\n",
       "      <td>Spring</td>\n",
       "      <td>Chinese Animation, Family Friendly, Short Epis...</td>\n",
       "      <td>3.35</td>\n",
       "      <td>2020.0</td>\n",
       "      <td>Violence</td>\n",
       "    </tr>\n",
       "    <tr>\n",
       "      <th>18494</th>\n",
       "      <td>18495</td>\n",
       "      <td>Heisei Inu Monogatari Bow: Genshi Inu Monogata...</td>\n",
       "      <td>Movie</td>\n",
       "      <td>1.0</td>\n",
       "      <td>Nippon Animation</td>\n",
       "      <td>Spring</td>\n",
       "      <td>Comedy, Slice of Life, Dogs</td>\n",
       "      <td>3.35</td>\n",
       "      <td>1994.0</td>\n",
       "      <td>Violence</td>\n",
       "    </tr>\n",
       "  </tbody>\n",
       "</table>\n",
       "<p>18495 rows × 10 columns</p>\n",
       "</div>"
      ],
      "text/plain": [
       "        Rank                                               Name   Type  \\\n",
       "0          1  Demon Slayer: Kimetsu no Yaiba - Entertainment...  TV      \n",
       "1          2                     Fruits Basket the Final Season  TV      \n",
       "2          3                                    Mo Dao Zu Shi 3  Web     \n",
       "3          4                   Fullmetal Alchemist: Brotherhood  TV      \n",
       "4          5                Attack on Titan 3rd Season: Part II  TV      \n",
       "...      ...                                                ...    ...   \n",
       "18490  18491  Qin Shi Mingyue: Canghai Hengliu Xiaomeng Spec...  Web     \n",
       "18491  18492                      Yi Tang Juchang: Sanguo Yanyi  TV      \n",
       "18492  18493          Fenghuang Ji Xiang Yu Qingming Shanghe Tu  TV      \n",
       "18493  18494                      Chengshi Jiyi Wo Men de Jieri  TV      \n",
       "18494  18495  Heisei Inu Monogatari Bow: Genshi Inu Monogata...  Movie   \n",
       "\n",
       "       Episodes                        Studio Release_season  \\\n",
       "0           1.0                      ufotable          Fall    \n",
       "1          13.0             TMS Entertainment         Spring   \n",
       "2          12.0              B.C MAY PICTURES         Spring   \n",
       "3          64.0                         Bones         Spring   \n",
       "4          10.0                    WIT Studio         Spring   \n",
       "...         ...                           ...            ...   \n",
       "18490       2.0  Sparkly Key Animation Studio         Spring   \n",
       "18491     108.0                Toei Animation         Spring   \n",
       "18492      13.0                Toei Animation         Spring   \n",
       "18493       1.0                Toei Animation         Spring   \n",
       "18494       1.0              Nippon Animation         Spring   \n",
       "\n",
       "                                                    Tags  Rating  \\\n",
       "0      Action, Adventure, Fantasy, Shounen, Demons, H...    4.60   \n",
       "1      Drama, Fantasy, Romance, Shoujo, Animal Transf...    4.60   \n",
       "2      Fantasy, Ancient China, Chinese Animation, Cul...    4.58   \n",
       "3      Action, Adventure, Drama, Fantasy, Mystery, Sh...    4.58   \n",
       "4      Action, Fantasy, Horror, Shounen, Dark Fantasy...    4.57   \n",
       "...                                                  ...     ...   \n",
       "18490  Action, Ancient China, Chinese Animation, Hist...    3.35   \n",
       "18491                                  Chinese Animation    3.35   \n",
       "18492  Chinese Animation, Family Friendly, Short Epis...    3.35   \n",
       "18493  Chinese Animation, Family Friendly, Short Epis...    3.35   \n",
       "18494                        Comedy, Slice of Life, Dogs    3.35   \n",
       "\n",
       "       Release_year                                    Content_Warning  \n",
       "0            2021.0                                  Explicit Violence  \n",
       "1            2021.0  Emotional Abuse,, Mature Themes,, Physical Abu...  \n",
       "2            2021.0                                           Violence  \n",
       "3            2009.0  Animal Abuse,, Mature Themes,, Violence,, Dome...  \n",
       "4            2019.0                    Cannibalism,, Explicit Violence  \n",
       "...             ...                                                ...  \n",
       "18490        2020.0                                           Violence  \n",
       "18491        2010.0                                           Violence  \n",
       "18492        2020.0                                           Violence  \n",
       "18493        2020.0                                           Violence  \n",
       "18494        1994.0                                           Violence  \n",
       "\n",
       "[18495 rows x 10 columns]"
      ]
     },
     "execution_count": 16,
     "metadata": {},
     "output_type": "execute_result"
    }
   ],
   "source": [
    "df"
   ]
  },
  {
   "cell_type": "code",
   "execution_count": 17,
   "id": "cc9347f8-b9fb-4f39-aaa8-1dbc1414adfc",
   "metadata": {},
   "outputs": [
    {
     "data": {
      "text/plain": [
       "Rank               0\n",
       "Name               0\n",
       "Type               0\n",
       "Episodes           0\n",
       "Studio             0\n",
       "Release_season     0\n",
       "Tags               0\n",
       "Rating             0\n",
       "Release_year       0\n",
       "Content_Warning    0\n",
       "dtype: int64"
      ]
     },
     "execution_count": 17,
     "metadata": {},
     "output_type": "execute_result"
    }
   ],
   "source": [
    "df.isnull().sum()"
   ]
  },
  {
   "cell_type": "code",
   "execution_count": 18,
   "id": "0cd65f03-59d2-4cb7-b623-1540329d032b",
   "metadata": {},
   "outputs": [
    {
     "data": {
      "text/plain": [
       "(18495, 10)"
      ]
     },
     "execution_count": 18,
     "metadata": {},
     "output_type": "execute_result"
    }
   ],
   "source": [
    "df.shape"
   ]
  },
  {
   "cell_type": "code",
   "execution_count": 19,
   "id": "d3648c9a-d4b0-4a80-bead-5276c66ded17",
   "metadata": {},
   "outputs": [],
   "source": [
    "columns_to_convert = ['Release_year', 'Episodes']"
   ]
  },
  {
   "cell_type": "code",
   "execution_count": 20,
   "id": "41e11502-9511-4692-83d7-b246acdfa0a5",
   "metadata": {},
   "outputs": [],
   "source": [
    "df[columns_to_convert ] = df[columns_to_convert].astype(int)"
   ]
  },
  {
   "cell_type": "code",
   "execution_count": 21,
   "id": "92f33cbe-4946-4df1-8292-f3ff3f76d82f",
   "metadata": {},
   "outputs": [
    {
     "data": {
      "text/html": [
       "<div>\n",
       "<style scoped>\n",
       "    .dataframe tbody tr th:only-of-type {\n",
       "        vertical-align: middle;\n",
       "    }\n",
       "\n",
       "    .dataframe tbody tr th {\n",
       "        vertical-align: top;\n",
       "    }\n",
       "\n",
       "    .dataframe thead th {\n",
       "        text-align: right;\n",
       "    }\n",
       "</style>\n",
       "<table border=\"1\" class=\"dataframe\">\n",
       "  <thead>\n",
       "    <tr style=\"text-align: right;\">\n",
       "      <th></th>\n",
       "      <th>Rank</th>\n",
       "      <th>Name</th>\n",
       "      <th>Type</th>\n",
       "      <th>Episodes</th>\n",
       "      <th>Studio</th>\n",
       "      <th>Release_season</th>\n",
       "      <th>Tags</th>\n",
       "      <th>Rating</th>\n",
       "      <th>Release_year</th>\n",
       "      <th>Content_Warning</th>\n",
       "    </tr>\n",
       "  </thead>\n",
       "  <tbody>\n",
       "    <tr>\n",
       "      <th>0</th>\n",
       "      <td>1</td>\n",
       "      <td>Demon Slayer: Kimetsu no Yaiba - Entertainment...</td>\n",
       "      <td>TV</td>\n",
       "      <td>1</td>\n",
       "      <td>ufotable</td>\n",
       "      <td>Fall</td>\n",
       "      <td>Action, Adventure, Fantasy, Shounen, Demons, H...</td>\n",
       "      <td>4.60</td>\n",
       "      <td>2021</td>\n",
       "      <td>Explicit Violence</td>\n",
       "    </tr>\n",
       "    <tr>\n",
       "      <th>1</th>\n",
       "      <td>2</td>\n",
       "      <td>Fruits Basket the Final Season</td>\n",
       "      <td>TV</td>\n",
       "      <td>13</td>\n",
       "      <td>TMS Entertainment</td>\n",
       "      <td>Spring</td>\n",
       "      <td>Drama, Fantasy, Romance, Shoujo, Animal Transf...</td>\n",
       "      <td>4.60</td>\n",
       "      <td>2021</td>\n",
       "      <td>Emotional Abuse,, Mature Themes,, Physical Abu...</td>\n",
       "    </tr>\n",
       "    <tr>\n",
       "      <th>2</th>\n",
       "      <td>3</td>\n",
       "      <td>Mo Dao Zu Shi 3</td>\n",
       "      <td>Web</td>\n",
       "      <td>12</td>\n",
       "      <td>B.C MAY PICTURES</td>\n",
       "      <td>Spring</td>\n",
       "      <td>Fantasy, Ancient China, Chinese Animation, Cul...</td>\n",
       "      <td>4.58</td>\n",
       "      <td>2021</td>\n",
       "      <td>Violence</td>\n",
       "    </tr>\n",
       "    <tr>\n",
       "      <th>3</th>\n",
       "      <td>4</td>\n",
       "      <td>Fullmetal Alchemist: Brotherhood</td>\n",
       "      <td>TV</td>\n",
       "      <td>64</td>\n",
       "      <td>Bones</td>\n",
       "      <td>Spring</td>\n",
       "      <td>Action, Adventure, Drama, Fantasy, Mystery, Sh...</td>\n",
       "      <td>4.58</td>\n",
       "      <td>2009</td>\n",
       "      <td>Animal Abuse,, Mature Themes,, Violence,, Dome...</td>\n",
       "    </tr>\n",
       "    <tr>\n",
       "      <th>4</th>\n",
       "      <td>5</td>\n",
       "      <td>Attack on Titan 3rd Season: Part II</td>\n",
       "      <td>TV</td>\n",
       "      <td>10</td>\n",
       "      <td>WIT Studio</td>\n",
       "      <td>Spring</td>\n",
       "      <td>Action, Fantasy, Horror, Shounen, Dark Fantasy...</td>\n",
       "      <td>4.57</td>\n",
       "      <td>2019</td>\n",
       "      <td>Cannibalism,, Explicit Violence</td>\n",
       "    </tr>\n",
       "    <tr>\n",
       "      <th>...</th>\n",
       "      <td>...</td>\n",
       "      <td>...</td>\n",
       "      <td>...</td>\n",
       "      <td>...</td>\n",
       "      <td>...</td>\n",
       "      <td>...</td>\n",
       "      <td>...</td>\n",
       "      <td>...</td>\n",
       "      <td>...</td>\n",
       "      <td>...</td>\n",
       "    </tr>\n",
       "    <tr>\n",
       "      <th>18490</th>\n",
       "      <td>18491</td>\n",
       "      <td>Qin Shi Mingyue: Canghai Hengliu Xiaomeng Spec...</td>\n",
       "      <td>Web</td>\n",
       "      <td>2</td>\n",
       "      <td>Sparkly Key Animation Studio</td>\n",
       "      <td>Spring</td>\n",
       "      <td>Action, Ancient China, Chinese Animation, Hist...</td>\n",
       "      <td>3.35</td>\n",
       "      <td>2020</td>\n",
       "      <td>Violence</td>\n",
       "    </tr>\n",
       "    <tr>\n",
       "      <th>18491</th>\n",
       "      <td>18492</td>\n",
       "      <td>Yi Tang Juchang: Sanguo Yanyi</td>\n",
       "      <td>TV</td>\n",
       "      <td>108</td>\n",
       "      <td>Toei Animation</td>\n",
       "      <td>Spring</td>\n",
       "      <td>Chinese Animation</td>\n",
       "      <td>3.35</td>\n",
       "      <td>2010</td>\n",
       "      <td>Violence</td>\n",
       "    </tr>\n",
       "    <tr>\n",
       "      <th>18492</th>\n",
       "      <td>18493</td>\n",
       "      <td>Fenghuang Ji Xiang Yu Qingming Shanghe Tu</td>\n",
       "      <td>TV</td>\n",
       "      <td>13</td>\n",
       "      <td>Toei Animation</td>\n",
       "      <td>Spring</td>\n",
       "      <td>Chinese Animation, Family Friendly, Short Epis...</td>\n",
       "      <td>3.35</td>\n",
       "      <td>2020</td>\n",
       "      <td>Violence</td>\n",
       "    </tr>\n",
       "    <tr>\n",
       "      <th>18493</th>\n",
       "      <td>18494</td>\n",
       "      <td>Chengshi Jiyi Wo Men de Jieri</td>\n",
       "      <td>TV</td>\n",
       "      <td>1</td>\n",
       "      <td>Toei Animation</td>\n",
       "      <td>Spring</td>\n",
       "      <td>Chinese Animation, Family Friendly, Short Epis...</td>\n",
       "      <td>3.35</td>\n",
       "      <td>2020</td>\n",
       "      <td>Violence</td>\n",
       "    </tr>\n",
       "    <tr>\n",
       "      <th>18494</th>\n",
       "      <td>18495</td>\n",
       "      <td>Heisei Inu Monogatari Bow: Genshi Inu Monogata...</td>\n",
       "      <td>Movie</td>\n",
       "      <td>1</td>\n",
       "      <td>Nippon Animation</td>\n",
       "      <td>Spring</td>\n",
       "      <td>Comedy, Slice of Life, Dogs</td>\n",
       "      <td>3.35</td>\n",
       "      <td>1994</td>\n",
       "      <td>Violence</td>\n",
       "    </tr>\n",
       "  </tbody>\n",
       "</table>\n",
       "<p>18495 rows × 10 columns</p>\n",
       "</div>"
      ],
      "text/plain": [
       "        Rank                                               Name   Type  \\\n",
       "0          1  Demon Slayer: Kimetsu no Yaiba - Entertainment...  TV      \n",
       "1          2                     Fruits Basket the Final Season  TV      \n",
       "2          3                                    Mo Dao Zu Shi 3  Web     \n",
       "3          4                   Fullmetal Alchemist: Brotherhood  TV      \n",
       "4          5                Attack on Titan 3rd Season: Part II  TV      \n",
       "...      ...                                                ...    ...   \n",
       "18490  18491  Qin Shi Mingyue: Canghai Hengliu Xiaomeng Spec...  Web     \n",
       "18491  18492                      Yi Tang Juchang: Sanguo Yanyi  TV      \n",
       "18492  18493          Fenghuang Ji Xiang Yu Qingming Shanghe Tu  TV      \n",
       "18493  18494                      Chengshi Jiyi Wo Men de Jieri  TV      \n",
       "18494  18495  Heisei Inu Monogatari Bow: Genshi Inu Monogata...  Movie   \n",
       "\n",
       "       Episodes                        Studio Release_season  \\\n",
       "0             1                      ufotable          Fall    \n",
       "1            13             TMS Entertainment         Spring   \n",
       "2            12              B.C MAY PICTURES         Spring   \n",
       "3            64                         Bones         Spring   \n",
       "4            10                    WIT Studio         Spring   \n",
       "...         ...                           ...            ...   \n",
       "18490         2  Sparkly Key Animation Studio         Spring   \n",
       "18491       108                Toei Animation         Spring   \n",
       "18492        13                Toei Animation         Spring   \n",
       "18493         1                Toei Animation         Spring   \n",
       "18494         1              Nippon Animation         Spring   \n",
       "\n",
       "                                                    Tags  Rating  \\\n",
       "0      Action, Adventure, Fantasy, Shounen, Demons, H...    4.60   \n",
       "1      Drama, Fantasy, Romance, Shoujo, Animal Transf...    4.60   \n",
       "2      Fantasy, Ancient China, Chinese Animation, Cul...    4.58   \n",
       "3      Action, Adventure, Drama, Fantasy, Mystery, Sh...    4.58   \n",
       "4      Action, Fantasy, Horror, Shounen, Dark Fantasy...    4.57   \n",
       "...                                                  ...     ...   \n",
       "18490  Action, Ancient China, Chinese Animation, Hist...    3.35   \n",
       "18491                                  Chinese Animation    3.35   \n",
       "18492  Chinese Animation, Family Friendly, Short Epis...    3.35   \n",
       "18493  Chinese Animation, Family Friendly, Short Epis...    3.35   \n",
       "18494                        Comedy, Slice of Life, Dogs    3.35   \n",
       "\n",
       "       Release_year                                    Content_Warning  \n",
       "0              2021                                  Explicit Violence  \n",
       "1              2021  Emotional Abuse,, Mature Themes,, Physical Abu...  \n",
       "2              2021                                           Violence  \n",
       "3              2009  Animal Abuse,, Mature Themes,, Violence,, Dome...  \n",
       "4              2019                    Cannibalism,, Explicit Violence  \n",
       "...             ...                                                ...  \n",
       "18490          2020                                           Violence  \n",
       "18491          2010                                           Violence  \n",
       "18492          2020                                           Violence  \n",
       "18493          2020                                           Violence  \n",
       "18494          1994                                           Violence  \n",
       "\n",
       "[18495 rows x 10 columns]"
      ]
     },
     "execution_count": 21,
     "metadata": {},
     "output_type": "execute_result"
    }
   ],
   "source": [
    "df"
   ]
  },
  {
   "cell_type": "markdown",
   "id": "cfaf49f0-8dde-481f-bb03-720f08fe418a",
   "metadata": {},
   "source": [
    "## Analysis portion: -"
   ]
  },
  {
   "cell_type": "code",
   "execution_count": 22,
   "id": "ebec400b-77db-475b-a352-4b3843ecb1b6",
   "metadata": {},
   "outputs": [
    {
     "data": {
      "text/plain": [
       "Release_year\n",
       "2021    3.510850\n",
       "2020    3.458667\n",
       "2019    3.436368\n",
       "2008    3.422735\n",
       "2018    3.408375\n",
       "2007    3.407322\n",
       "1955    3.395000\n",
       "2022    3.388714\n",
       "1978    3.388594\n",
       "1995    3.379000\n",
       "1918    3.376667\n",
       "Name: Rating, dtype: float64"
      ]
     },
     "execution_count": 22,
     "metadata": {},
     "output_type": "execute_result"
    }
   ],
   "source": [
    "df.groupby('Release_year') ['Rating'].mean().sort_values(ascending = False).head(11)\n"
   ]
  },
  {
   "cell_type": "markdown",
   "id": "f26f7e4e-1064-4829-8578-62f2aeace18b",
   "metadata": {},
   "source": [
    " --- From above we get avg reting per year."
   ]
  },
  {
   "cell_type": "markdown",
   "id": "5715cc10-1de1-4323-bc6b-a2ae2a7d259b",
   "metadata": {},
   "source": [
    "## Anime has more episodes"
   ]
  },
  {
   "cell_type": "code",
   "execution_count": 23,
   "id": "2e6f270a-2370-456e-8b5e-f307c74d1241",
   "metadata": {},
   "outputs": [
    {
     "name": "stdout",
     "output_type": "stream",
     "text": [
      "                          Name  Episodes\n",
      "      Shuimu Baobao Kan Shijie       800\n",
      "                Kotowaza House       773\n",
      "           Asa da yo! Kaishain       744\n",
      "Shima Shima Tora no Shimajirou       726\n",
      "             Ninja Hattori-kun       694\n",
      "               Doraemon (2005)       555\n",
      "Pleasant Goat and Big Big Wolf       530\n",
      "                 Perman (1983)       526\n",
      "       Obake no Q-Tarou (1985)       510\n",
      "              Naruto Shippuden       500\n"
     ]
    }
   ],
   "source": [
    "ep = ['Name','Episodes']\n",
    "eps = df[df['Episodes'] >= 500] [ep].sort_values(by = \"Episodes\",  ascending=False)\n",
    "print(eps.to_string(index=False))"
   ]
  },
  {
   "cell_type": "markdown",
   "id": "f241a922-05d5-4aaa-8bec-ec0d59e70cea",
   "metadata": {},
   "source": [
    "The above anime has more than 500 epos."
   ]
  },
  {
   "cell_type": "markdown",
   "id": "06e17d85-be0d-47e6-8123-16115d131cc8",
   "metadata": {},
   "source": [
    "## Highest Rated anime"
   ]
  },
  {
   "cell_type": "code",
   "execution_count": 24,
   "id": "c16293b6-cc2d-4a4b-a1c8-6884173a4d13",
   "metadata": {},
   "outputs": [
    {
     "name": "stdout",
     "output_type": "stream",
     "text": [
      "                                                       Name  Rating\n",
      "Demon Slayer: Kimetsu no Yaiba - Entertainment District Arc    4.60\n",
      "                             Fruits Basket the Final Season    4.60\n",
      "                                            Mo Dao Zu Shi 3    4.58\n",
      "                           Fullmetal Alchemist: Brotherhood    4.58\n",
      "                        Attack on Titan 3rd Season: Part II    4.57\n",
      "                                             Jujutsu Kaisen    4.56\n",
      "                  Attack on Titan The Final Season: Part II    4.56\n",
      "                           Attack on Titan The Final Season    4.55\n",
      "         Demon Slayer: Kimetsu no Yaiba Movie - Mugen Train    4.54\n",
      "    Haikyuu!! Karasuno High School vs Shiratorizawa Academy    4.53\n",
      "                                                 your name.    4.51\n",
      "                                    Haikyuu!! Second Season    4.51\n",
      "                             Demon Slayer: Kimetsu no Yaiba    4.51\n",
      "                                     Hunter x Hunter (2011)    4.51\n",
      "                                             A Silent Voice    4.51\n",
      "                                    Violet Evergarden Movie    4.50\n",
      "                              Haikyuu!! To the Top: Part II    4.50\n",
      "                         Heaven Official's Blessing Special    4.50\n"
     ]
    }
   ],
   "source": [
    "rt = [\"Name\", \"Rating\"]\n",
    "\n",
    "rts = df[df['Rating'] >= 4.5] [rt]\n",
    "print(rts.to_string(index=False))"
   ]
  },
  {
   "cell_type": "markdown",
   "id": "88db98df-02c0-4830-a43c-a6ffe6f52d7f",
   "metadata": {},
   "source": [
    "These are the animes which has rating more than 4.5"
   ]
  },
  {
   "cell_type": "markdown",
   "id": "7a8e3e57-1410-4483-a97e-f669eac01b18",
   "metadata": {},
   "source": [
    "## Count of types of anime"
   ]
  },
  {
   "cell_type": "code",
   "execution_count": 25,
   "id": "b293a046-dc9a-4cb0-a2e2-374c8521675a",
   "metadata": {},
   "outputs": [
    {
     "data": {
      "image/png": "[encoded data removed]",
      "text/plain": [
       "<Figure size 640x480 with 1 Axes>"
      ]
     },
     "metadata": {},
     "output_type": "display_data"
    }
   ],
   "source": [
    "ay = sns.countplot(df,x=df['Type'])\n",
    "for bars in ay.containers:\n",
    "    ay.bar_label(bars)"
   ]
  },
  {
   "cell_type": "markdown",
   "id": "24b7b900-644e-4de6-8f76-65244996fb93",
   "metadata": {},
   "source": [
    "so, from the above we can observe that the TV types anime is more \n",
    "\n",
    "and then 2nd highest type anime is Movie type"
   ]
  },
  {
   "cell_type": "markdown",
   "id": "8bfb60db-5198-41af-a81c-aac77f493387",
   "metadata": {},
   "source": [
    "## Count of name as per their released seasons"
   ]
  },
  {
   "cell_type": "code",
   "execution_count": 26,
   "id": "e128978e-912e-46cb-af4b-624692263b3f",
   "metadata": {},
   "outputs": [
    {
     "name": "stdout",
     "output_type": "stream",
     "text": [
      "                    Fruits Basket the Final Season\n",
      "                                   Mo Dao Zu Shi 3\n",
      "                  Fullmetal Alchemist: Brotherhood\n",
      "               Attack on Titan 3rd Season: Part II\n",
      "Demon Slayer: Kimetsu no Yaiba Movie - Mugen Train\n",
      "                                        your name.\n",
      "                    Demon Slayer: Kimetsu no Yaiba\n",
      "                                    A Silent Voice\n",
      "                           Violet Evergarden Movie\n",
      "                Heaven Official's Blessing Special\n",
      "           Code Geass: Lelouch of the Rebellion R2\n"
     ]
    }
   ],
   "source": [
    "spring_anime = df[df['Release_season'] == 'Spring'] ['Name'].head(11)\n",
    "print(spring_anime.to_string(index=False))"
   ]
  },
  {
   "cell_type": "markdown",
   "id": "67acd4d3-158e-480f-9db1-a957fa1ba404",
   "metadata": {},
   "source": [
    "--- Above the name of anime released in Spring season"
   ]
  },
  {
   "cell_type": "code",
   "execution_count": 46,
   "id": "c90f185d-1f4a-4a64-8524-b4917bc6315b",
   "metadata": {},
   "outputs": [
    {
     "name": "stdout",
     "output_type": "stream",
     "text": [
      "       Attack on Titan The Final Season: Part II\n",
      "                Attack on Titan The Final Season\n",
      "That Time I Got Reincarnated as a Slime Season 2\n",
      "                               Mob Psycho 100 II\n",
      "                            Haikyuu!! To the Top\n",
      "                          The Promised Neverland\n",
      "                                        Gintama.\n",
      "             Gintama.: Shirogane no Tamashii-hen\n",
      "              Natsume's Book of Friends Season 4\n",
      "              Assassination Classroom 2nd Season\n",
      "                               Violet Evergarden\n"
     ]
    }
   ],
   "source": [
    "winter_anime = df[df['Release_season'] == 'Winter'] ['Name'].head(11)\n",
    "print(winter_anime.to_string(index=False))"
   ]
  },
  {
   "cell_type": "markdown",
   "id": "a5d3d52c-6130-4a33-bc1f-b12515d1730a",
   "metadata": {},
   "source": [
    "--- Above the name of anime released in Winter season"
   ]
  },
  {
   "cell_type": "code",
   "execution_count": 28,
   "id": "d811a8bf-cfe7-42d9-8489-83895fa8682e",
   "metadata": {},
   "outputs": [
    {
     "name": "stdout",
     "output_type": "stream",
     "text": [
      "                                             Given\n",
      "That Time I Got Reincarnated as a Slime Season ...\n",
      "             Gintama.: Shirogane no Tamashii-hen 2\n",
      "                                       Banana Fish\n",
      "                        Attack on Titan 3rd Season\n",
      "                                      Vinland Saga\n",
      "                Natsume's Book of Friends Season 3\n",
      "                                         Dr. Stone\n",
      "                  Monogatari Series: Second Season\n",
      "                                     Made in Abyss\n",
      "                             Great Teacher Onizuka\n"
     ]
    }
   ],
   "source": [
    "summ_anime = df[df['Release_season'] == 'Summer'] ['Name'].head(11)\n",
    "print(summ_anime.to_string(index=False))"
   ]
  },
  {
   "cell_type": "markdown",
   "id": "f341ceea-b6c6-4408-8d78-508389f8e834",
   "metadata": {},
   "source": [
    "-- Above the name of anime released in Summer season"
   ]
  },
  {
   "cell_type": "markdown",
   "id": "e73ec25d-c431-4213-8249-7d75a82b8a10",
   "metadata": {},
   "source": [
    "## Count of seasons as per their released seasons"
   ]
  },
  {
   "cell_type": "code",
   "execution_count": 29,
   "id": "570ef19c-f26f-4f95-8820-6e9c060b3e4d",
   "metadata": {},
   "outputs": [
    {
     "data": {
      "image/png": "[encoded data removed]",
      "text/plain": [
       "<Figure size 1000x400 with 1 Axes>"
      ]
     },
     "metadata": {},
     "output_type": "display_data"
    }
   ],
   "source": [
    "plt.figure(figsize= (10,4))\n",
    "ax=sns.countplot(df,x=df['Release_season'] ) \n",
    "for bars in ax.containers:\n",
    "    ax.bar_label(bars)"
   ]
  },
  {
   "cell_type": "markdown",
   "id": "1bf010bf-baac-42ec-9110-91d8746edd91",
   "metadata": {},
   "source": [
    " --- From the above chart we can observe that most of the anime was released in Spring season"
   ]
  },
  {
   "cell_type": "markdown",
   "id": "afe33379-eff1-4f37-994e-7c7ece9a5837",
   "metadata": {},
   "source": [
    "## Most popular genre  "
   ]
  },
  {
   "cell_type": "code",
   "execution_count": 45,
   "id": "2094a26c-a6f0-407c-8ecb-4d2821d31ce4",
   "metadata": {},
   "outputs": [
    {
     "data": {
      "image/png": "[encoded data removed]",
      "text/plain": [
       "<Figure size 450x450 with 1 Axes>"
      ]
     },
     "metadata": {},
     "output_type": "display_data"
    }
   ],
   "source": [
    "# Calculate the counts for each 'Tags'\n",
    "counts = df['Tags'].value_counts()\n",
    "\n",
    "# Get the top 5 'Tags' values\n",
    "top_5 = counts.head(5).index\n",
    "\n",
    "# Filter the DataFrame to include only the top 5 'Tags' values\n",
    "filtered_df = df[df['Tags'].isin(top_5)]\n",
    "\n",
    "# Prepare data for the donut chart\n",
    "labels = top_5\n",
    "sizes = counts.loc[top_5].values\n",
    "colors = plt.cm.Paired(range(len(labels)))\n",
    "\n",
    "# Create the donut chart\n",
    "plt.figure(figsize=(4.5, 4.5))\n",
    "plt.pie(sizes, labels=labels, colors=colors,autopct='%1.1f%%', wedgeprops=dict(width=0.3))\n",
    "plt.title('Top 5 Tags Count')\n",
    "plt.axis('equal')  # Equal aspect ratio ensures that pie is drawn as a circle\n",
    "\n",
    "# Display the chart\n",
    "plt.show()"
   ]
  },
  {
   "cell_type": "markdown",
   "id": "3f4a6977-d689-4826-90b8-40f95c31cfbb",
   "metadata": {},
   "source": [
    " ---  From the above we observed that most people love to watch anime which belongs to 'action', 'advanture', 'fantasy', 'shorts', 'chinese animation', and 'family friendly'."
   ]
  },
  {
   "cell_type": "markdown",
   "id": "b745edcc-81ab-4a1a-be57-57de4864d5c0",
   "metadata": {},
   "source": [
    "## Top release year count"
   ]
  },
  {
   "cell_type": "code",
   "execution_count": 31,
   "id": "0d30ab07-8a71-4c78-b6fe-22adf3c940c1",
   "metadata": {},
   "outputs": [
    {
     "data": {
      "image/png": "[encoded data removed]",
      "text/plain": [
       "<Figure size 1000x600 with 1 Axes>"
      ]
     },
     "metadata": {},
     "output_type": "display_data"
    }
   ],
   "source": [
    "#Calculate the counts for each 'Release_year'\n",
    "counts = df['Release_year'].value_counts()\n",
    "\n",
    "# Get the top 5 'Release_year' values\n",
    "top_5_years = counts.head(5).index\n",
    "\n",
    "# Filter the DataFrame to include only the top 5 'Release_year' values\n",
    "filtered_df = df[df['Release_year'].isin(top_5_years)]\n",
    "\n",
    "# Create the count plot\n",
    "plt.figure(figsize=(10, 6))\n",
    "ax = sns.countplot(x='Release_year', data=filtered_df)\n",
    "\n",
    "# Add labels to the bars\n",
    "for container in ax.containers:\n",
    "    ax.bar_label(container)\n",
    "\n",
    "plt.title('Top 5 Release Years Count')\n",
    "plt.show()\n",
    "\n",
    "\n",
    "make it donut chart\n"
   ]
  },
  {
   "cell_type": "markdown",
   "id": "a3f93182-236a-448c-8bcf-29e7270e3fce",
   "metadata": {},
   "source": [
    "So in year 2017 number of anime is more in terms of release."
   ]
  },
  {
   "cell_type": "markdown",
   "id": "031b296e-fc12-476a-9454-6043d9eb95c2",
   "metadata": {},
   "source": [
    "## Name of anime where contant warning = violence"
   ]
  },
  {
   "cell_type": "code",
   "execution_count": 32,
   "id": "1e825a70-3b56-43cf-9426-4307479041ee",
   "metadata": {},
   "outputs": [
    {
     "data": {
      "text/plain": [
       "2                                          Mo Dao Zu Shi 3\n",
       "6                Attack on Titan The Final Season: Part II\n",
       "9        Haikyuu!! Karasuno High School vs Shiratorizaw...\n",
       "10                                              your name.\n",
       "11                                 Haikyuu!! Second Season\n",
       "                               ...                        \n",
       "18490    Qin Shi Mingyue: Canghai Hengliu Xiaomeng Spec...\n",
       "18491                        Yi Tang Juchang: Sanguo Yanyi\n",
       "18492            Fenghuang Ji Xiang Yu Qingming Shanghe Tu\n",
       "18493                        Chengshi Jiyi Wo Men de Jieri\n",
       "18494    Heisei Inu Monogatari Bow: Genshi Inu Monogata...\n",
       "Name: Name, Length: 17184, dtype: object"
      ]
     },
     "execution_count": 32,
     "metadata": {},
     "output_type": "execute_result"
    }
   ],
   "source": [
    "df[df['Content_Warning'] == 'Violence'] ['Name']"
   ]
  },
  {
   "cell_type": "markdown",
   "id": "9f22b8aa-9fba-406c-87aa-afd5a2534479",
   "metadata": {},
   "source": [
    " -- The above anime name belongs to that catagory which has more violence.  "
   ]
  },
  {
   "cell_type": "markdown",
   "id": "d8c9185f-9d85-4f26-9368-552b3e3f2e7a",
   "metadata": {},
   "source": [
    "## Conclusion:-"
   ]
  },
  {
   "cell_type": "markdown",
   "id": "4f13cfee-96cf-4296-a2bb-35e18321d967",
   "metadata": {},
   "source": [
    ". Spring season is most popular season in order to release new anime.\n",
    "\n",
    ". Majority of the watchers like the anime which content actions and little bit love and softness."
   ]
  },
  {
   "cell_type": "markdown",
   "id": "23c150aa-3922-4f0e-adef-2bd31fd7c7b0",
   "metadata": {},
   "source": [
    "##                              最後です\n",
    "\"THE END\""
   ]
  },
  {
   "cell_type": "code",
   "execution_count": null,
   "id": "0b92f816-b5e5-463f-8f25-3e31d919f019",
   "metadata": {},
   "outputs": [],
   "source": []
  }
 ],
 "metadata": {
  "kernelspec": {
   "display_name": "Python 3 (ipykernel)",
   "language": "python",
   "name": "python3"
  },
  "language_info": {
   "codemirror_mode": {
    "name": "ipython",
    "version": 3
   },
   "file_extension": ".py",
   "mimetype": "text/x-python",
   "name": "python",
   "nbconvert_exporter": "python",
   "pygments_lexer": "ipython3",
   "version": "3.10.1"
  }
 },
 "nbformat": 4,
 "nbformat_minor": 5
}
